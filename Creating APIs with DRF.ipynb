{
 "cells": [
  {
   "attachments": {},
   "cell_type": "markdown",
   "metadata": {},
   "source": [
    "# Building REST APIs using Django Rest Framework\n",
    "\n",
    "- why DRF?\n",
    "- Setting up DRF\n",
    "- RESTful structure: GET, POST, PUT and DELETE methods\n",
    "- Creating models for APIs\n",
    "- Model Serializer\n",
    "- Creating API Views in Django\n",
    "\n",
    "\n",
    "## Why Django Rest Framework?\n",
    "- Build on top of Django\n",
    "- Powerful and flexible toolkit for Web APIs\n",
    "- Based on Django's Class-based views\n",
    "- It adopts implementation of forms, model validator, Querysets\n",
    "\n"
   ]
  },
  {
   "attachments": {},
   "cell_type": "markdown",
   "metadata": {},
   "source": [
    "\n",
    "create folder\n",
    "cd in to the folder\n",
    "python -m venv todo_venv\n",
    "source todo_venv/bin/activate\n",
    "pip install django\n",
    "django-admin startproject first_api .\n",
    "pip install django_rest_framework\n",
    "go to settings.py, on installed apps add \"rest_framework\",\n",
    "\n",
    "django-admin startapp todo\n",
    "# Register the todo app\n",
    "    \"todo.apps.TodoConfig\","
   ]
  },
  {
   "attachments": {},
   "cell_type": "markdown",
   "metadata": {},
   "source": [
    "# SERIALIZERS\n",
    "In the context of web development using Django, serializers are components that allow you to convert complex data types, such as Python objects, into simpler data types that can be easily sent over the network as JSON or XML. The serialized data can then be easily consumed by other applications or client-side JavaScript code. For example, a Python object can be converted into a JSON string that can be easily consumed by a JavaScript client.\n",
    "\n",
    "In Django, the serialization process is performed using serializers provided by the Django REST framework. The framework provides a set of serializer classes that can be used to serialize and deserialize data.\n",
    "\n",
    "Django REST framework serializers can also handle the validation of data, ensuring that the data being serialized is valid and meets certain constraints before it is sent over the network.\n",
    "\n",
    "Serializers play a crucial role in building web APIs using Django, as they provide a standard way of representing complex data structures in a format that can be easily consumed by clients. They simplify the development of APIs by automating many of the low-level tasks involved in serialization and deserialization, allowing developers to focus on building high-quality APIs that are easy to use and maintain.\n",
    "\n",
    "1. Serializers are classes in Django REST Framework that convert complex data types, such as QuerySets and model instances, into Python data types that can be easily rendered into JSON, XML, or other content types.\n",
    "\n",
    "2. To declare a serializer, you need to create a new class that inherits from one of the serializer classes provided by Django REST Framework, such as Serializer or ModelSerializer. You also need to define the fields that should be serialized.\n",
    "\n",
    "3. Serialization is the process of converting Python Data Types into a format that can be store or transmitted, such as JSON or XML. Deserialization is the opposite process, where the serialized data is converted back into Python Data Types.\n",
    "\n",
    "4. A ModelSerializer is a shortcut for creating serializers that deal with model instances and querysets. It automatically generates a set of fields based on the models fields.\n",
    "\n",
    "# VIEWS\n",
    "1. In Django, views handle HTTP Request and return HTTP responses. Class-based views and function-based views are the two main types of views in Django.\n",
    "2. Function-based views are simple Python functions that take a request object and return a response object. Class-based views are classes that define methods to handle different HTTP methods, such as GET and POST.\n",
    "3. A generic view is a pre-built class-based view that can be customized for a specific use case. It provides a simple way to handle common tasks, such as displaying a list of objects or creating a new object.\n"
   ]
  },
  {
   "attachments": {},
   "cell_type": "markdown",
   "metadata": {},
   "source": [
    "# Serializers:\n",
    "\n",
    "1. What are serializers?\n",
    "Serializers are components in Django that help in converting complex data types like Python objects into simpler data types that can be transferred over a network using JSON or XML. Django's REST framework provides a set of serializer classes that are used for serialization and deserialization of data.\n",
    "\n",
    "2. How to declare serializers?\n",
    "In Django, serializers are declared as Python classes that extend the serializers.Serializer class or the serializers.ModelSerializer class. The former is used for creating custom serializers, while the latter is used for serializing Django models.\n",
    "\n",
    "3. Serialization vs Deserialization\n",
    "Serialization refers to the process of converting complex data types into simpler formats like JSON or XML, which can be easily transferred over the network. On the other hand, deserialization is the process of converting the serialized data back into complex data types like Python objects.\n",
    "\n",
    "4. Serializer vs ModelSerializer\n",
    "Serializer and ModelSerializer are both classes in Django that are used for serialization and deserialization of data. Serializer is used for creating custom serializers, while ModelSerializer is used for serializing Django models. ModelSerializer is a subclass of Serializer that provides additional features for serializing Django models, such as default implementations of create() and update() methods.\n",
    "\n",
    "# Views:\n",
    "\n",
    "1. Class-based vs function-based views\n",
    "Django supports two types of views: class-based views and function-based views. Function-based views are Python functions that take an HTTP request as input and return an HTTP response. Class-based views, on the other hand, are Python classes that define methods for handling HTTP requests.\n",
    "\n",
    "2. What is a generic view?\n",
    "A generic view is a class-based view provided by Django's built-in generic views module that provides common functionalities that can be used in different scenarios. These views provide a simple and quick way to generate views for standard use cases, such as displaying a list of objects, displaying a detail view of an object, creating an object, updating an object, or deleting an object. The generic views reduce the amount of boilerplate code that needs to be written and help in writing reusable code. The generic views can be easily customized to meet specific requirements by overriding class attributes and methods."
   ]
  }
 ],
 "metadata": {
  "language_info": {
   "name": "python"
  },
  "orig_nbformat": 4
 },
 "nbformat": 4,
 "nbformat_minor": 2
}
